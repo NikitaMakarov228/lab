{
 "cells": [
  {
   "cell_type": "code",
   "execution_count": 1,
   "metadata": {},
   "outputs": [
    {
     "name": "stderr",
     "output_type": "stream",
     "text": [
      "[nltk_data] Downloading package punkt to\n",
      "[nltk_data]     C:\\Users\\Nikit\\AppData\\Roaming\\nltk_data...\n",
      "[nltk_data]   Package punkt is already up-to-date!\n",
      "[nltk_data] Downloading package stopwords to\n",
      "[nltk_data]     C:\\Users\\Nikit\\AppData\\Roaming\\nltk_data...\n",
      "[nltk_data]   Package stopwords is already up-to-date!\n"
     ]
    }
   ],
   "source": [
    "import nltk\n",
    "from nltk.corpus import stopwords\n",
    "from nltk.tokenize import sent_tokenize, word_tokenize\n",
    "from sklearn.feature_extraction.text import TfidfVectorizer\n",
    "import numpy as np\n",
    "\n",
    "nltk.download('punkt')\n",
    "nltk.download('stopwords')\n",
    "stop_words = set(stopwords.words(\"russian\"))\n"
   ]
  },
  {
   "cell_type": "code",
   "execution_count": 2,
   "metadata": {},
   "outputs": [],
   "source": [
    "def summarize_text(text, compression_rate=0.1):\n",
    "    # 1. Разбиваем текст на предложения\n",
    "    sentences = sent_tokenize(text)\n",
    "    num_sentences = len(sentences)\n",
    "    \n",
    "    # 2. Разбиваем текст на слова и нормализуем их (лемматизация)\n",
    "    words = []\n",
    "    for sentence in sentences:\n",
    "        tokens = word_tokenize(sentence)\n",
    "        tokens = [word.lower() for word in tokens if word.isalpha()]  # Только алфавитные токены\n",
    "        words.extend(tokens)\n",
    "    \n",
    "    # 3. Удаляем стоп-слова\n",
    "    filtered_words = [word for word in words if word not in stop_words]\n",
    "    \n",
    "    # 4. Подсчитываем веса слов (TF-IDF)\n",
    "    vectorizer = TfidfVectorizer()\n",
    "    tfidf_matrix = vectorizer.fit_transform(sentences)\n",
    "    word_scores = np.array(tfidf_matrix.sum(axis=0)).flatten()\n",
    "    vocab = vectorizer.get_feature_names_out()\n",
    "    word_weights = dict(zip(vocab, word_scores))\n",
    "    \n",
    "    # 5. Определяем веса предложений как сумму весов слов\n",
    "    sentence_weights = []\n",
    "    for sentence in sentences:\n",
    "        sentence_weight = sum(word_weights.get(word.lower(), 0) for word in word_tokenize(sentence))\n",
    "        sentence_weights.append(sentence_weight)\n",
    "    \n",
    "    # 6. Сортируем предложения по убыванию веса\n",
    "    sentence_weight_pairs = list(enumerate(sentence_weights))\n",
    "    sentence_weight_pairs.sort(key=lambda x: x[1], reverse=True)\n",
    "    \n",
    "    # 7. Оставляем предложения, входящие в заданный процент сжатия\n",
    "    summary_sentence_count = max(1, int(num_sentences * compression_rate))\n",
    "    selected_sentences = sorted([sentences[idx] for idx, _ in sentence_weight_pairs[:summary_sentence_count]])\n",
    "    \n",
    "    # 8. Формируем текст реферата\n",
    "    summary_text = \" \".join(selected_sentences)\n",
    "    \n",
    "    return {\n",
    "        \"keywords\": sorted(word_weights.items(), key=lambda x: x[1], reverse=True)[:10],  # Топ-10 ключевых слов\n",
    "        \"sentence_weights\": sentence_weight_pairs,\n",
    "        \"summary\": summary_text\n",
    "    }\n"
   ]
  },
  {
   "cell_type": "code",
   "execution_count": 3,
   "metadata": {},
   "outputs": [
    {
     "name": "stdout",
     "output_type": "stream",
     "text": [
      "Ключевые слова с весами: [('город', 0.4959630812544866), ('москва', 0.4853268010699042), ('россии', 0.4853268010699042), ('страны', 0.4853268010699042), ('центром', 0.44000993338245364), ('достопримечательностями', 0.34327249061384996), ('историей', 0.34327249061384996), ('крупнейший', 0.34327249061384996), ('культурными', 0.34327249061384996), ('многовековой', 0.34327249061384996)]\n",
      "Веса предложений: [(3, 4.891323527630294), (2, 4.079704705810236), (0, 4.011578428147299), (1, 3.0)]\n",
      "Текст реферата: На протяжении веков Москва играла важную роль в экономике страны, и сегодня она остается финансовым центром России.\n"
     ]
    }
   ],
   "source": [
    "# Пример текста\n",
    "text = \"\"\"\n",
    "Москва — столица России, крупнейший город страны с многовековой историей и культурными достопримечательностями. \n",
    "В Москве находятся важные правительственные учреждения, включая Кремль и Государственную Думу. \n",
    "Город является также крупнейшим центром науки и образования, в нем расположены ведущие университеты и исследовательские институты. \n",
    "На протяжении веков Москва играла важную роль в экономике страны, и сегодня она остается финансовым центром России.\n",
    "\"\"\"\n",
    "\n",
    "# Установка коэффициента сжатия (например, 20% от оригинального текста)\n",
    "compression_rate = 0.2\n",
    "\n",
    "# Получение реферата\n",
    "summary_data = summarize_text(text, compression_rate)\n",
    "\n",
    "# Вывод ключевых слов, весов предложений и самого реферата\n",
    "print(\"Ключевые слова с весами:\", summary_data[\"keywords\"])\n",
    "print(\"Веса предложений:\", summary_data[\"sentence_weights\"])\n",
    "print(\"Текст реферата:\", summary_data[\"summary\"])\n"
   ]
  }
 ],
 "metadata": {
  "kernelspec": {
   "display_name": "Python 3",
   "language": "python",
   "name": "python3"
  },
  "language_info": {
   "codemirror_mode": {
    "name": "ipython",
    "version": 3
   },
   "file_extension": ".py",
   "mimetype": "text/x-python",
   "name": "python",
   "nbconvert_exporter": "python",
   "pygments_lexer": "ipython3",
   "version": "3.10.5"
  }
 },
 "nbformat": 4,
 "nbformat_minor": 2
}
