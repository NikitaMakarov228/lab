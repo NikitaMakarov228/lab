{
 "cells": [
  {
   "cell_type": "code",
   "execution_count": 8,
   "metadata": {},
   "outputs": [],
   "source": [
    "import nltk\n",
    "from nltk.corpus import stopwords\n",
    "from collections import Counter\n",
    "import pymorphy2"
   ]
  },
  {
   "cell_type": "code",
   "execution_count": 9,
   "metadata": {},
   "outputs": [
    {
     "name": "stderr",
     "output_type": "stream",
     "text": [
      "[nltk_data] Downloading package stopwords to\n",
      "[nltk_data]     C:\\Users\\Nikit\\AppData\\Roaming\\nltk_data...\n",
      "[nltk_data]   Package stopwords is already up-to-date!\n",
      "[nltk_data] Downloading package punkt to\n",
      "[nltk_data]     C:\\Users\\Nikit\\AppData\\Roaming\\nltk_data...\n",
      "[nltk_data]   Unzipping tokenizers\\punkt.zip.\n"
     ]
    }
   ],
   "source": [
    "nltk.download(\"stopwords\")\n",
    "nltk.download(\"punkt\")  \n",
    "stop_words = set(stopwords.words(\"russian\"))"
   ]
  },
  {
   "cell_type": "code",
   "execution_count": 10,
   "metadata": {},
   "outputs": [],
   "source": [
    "morph = pymorphy2.MorphAnalyzer()"
   ]
  },
  {
   "cell_type": "code",
   "execution_count": null,
   "metadata": {},
   "outputs": [],
   "source": [
    "def toFreqDict(input_file, output_file):\n",
    "\n",
    "    with open(input_file, \"r\", encoding=\"utf-8\") as f:\n",
    "        text = f.read()\n",
    "\n",
    "    # Токенизация\n",
    "    words = nltk.word_tokenize(text, language=\"russian\")\n",
    "\n",
    "    # Фильтрация и нормализация слов\n",
    "    normalized_words = []\n",
    "    for word in words:\n",
    "        # Убираем стоп слова и некорректные токены\n",
    "        if word.isalpha() and word.lower() not in stop_words:\n",
    "            # Приводим слово к начальной форме (лемматизация)\n",
    "            lemma = morph.parse(word)[0].normal_form\n",
    "            normalized_words.append(lemma)\n",
    "\n",
    "    # Подсчет частоты слова\n",
    "    word_freq = Counter(normalized_words)\n",
    "\n",
    "    # Запись в файл\n",
    "    with open(output_file, \"w\", encoding=\"utf-8\") as f:\n",
    "        for word, frequency in word_freq.most_common():\n",
    "            f.write(f\"{word}, {frequency}\\n\")\n",
    "\n",
    "toFreqDict(\"input.txt\", \"output.txt\")"
   ]
  }
 ],
 "metadata": {
  "kernelspec": {
   "display_name": "Python 3",
   "language": "python",
   "name": "python3"
  },
  "language_info": {
   "codemirror_mode": {
    "name": "ipython",
    "version": 3
   },
   "file_extension": ".py",
   "mimetype": "text/x-python",
   "name": "python",
   "nbconvert_exporter": "python",
   "pygments_lexer": "ipython3",
   "version": "3.10.5"
  }
 },
 "nbformat": 4,
 "nbformat_minor": 2
}
