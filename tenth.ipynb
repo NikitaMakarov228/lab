{
 "cells": [
  {
   "cell_type": "code",
   "execution_count": 56,
   "metadata": {},
   "outputs": [],
   "source": [
    "import re\n",
    "from collections import Counter\n",
    "import nltk\n",
    "from nltk.corpus import stopwords\n",
    "from nltk.stem.snowball import SnowballStemmer\n",
    "import pymorphy2\n"
   ]
  },
  {
   "cell_type": "code",
   "execution_count": 57,
   "metadata": {},
   "outputs": [],
   "source": [
    "with open(\"npunkt.txt\", \"r\", encoding=\"utf-8\") as f:\n",
    "    text = f.read()"
   ]
  },
  {
   "cell_type": "code",
   "execution_count": 58,
   "metadata": {},
   "outputs": [],
   "source": [
    "shorts = [\n",
    "    \"г\",\n",
    "    \"пгт\",\n",
    "    \"рп\",\n",
    "    \"кп\",\n",
    "    \"к\",\n",
    "    \"дп\",\n",
    "    \"п\",\n",
    "    \"п. ст\",\n",
    "    \"с\",\n",
    "    \"д\",\n",
    "    \"сл\",\n",
    "    \"ст\",\n",
    "    \"ст-ца\",\n",
    "    \"х\",\n",
    "    \"у\",\n",
    "    \"рзд\",\n",
    "    \"зим\",\n",
    "]"
   ]
  },
  {
   "cell_type": "code",
   "execution_count": 59,
   "metadata": {},
   "outputs": [
    {
     "data": {
      "text/plain": [
       "['г. Москва',\n",
       " 'г. Москва',\n",
       " 'г. Москва',\n",
       " 'пгт. Внуково',\n",
       " 'пгт. Внуково',\n",
       " 'кп. Барвиха',\n",
       " 'кп. Барвиха',\n",
       " 'кп. Барвиха',\n",
       " 'с. Ильинское',\n",
       " 'с. Ильинского',\n",
       " 'с. Ильинское']"
      ]
     },
     "execution_count": 59,
     "metadata": {},
     "output_type": "execute_result"
    }
   ],
   "source": [
    "def getSettlement(text) -> list:\n",
    "    pattern = r\"\\b(?:\" + \"|\".join(shorts) + r\")\\.\\s*[А-ЯЁа-яёA-Za-z]+\"\n",
    "    return re.findall(pattern, text)\n",
    "    \n",
    "settlements = getSettlement(text)\n",
    "settlements"
   ]
  },
  {
   "cell_type": "code",
   "execution_count": 60,
   "metadata": {},
   "outputs": [
    {
     "name": "stderr",
     "output_type": "stream",
     "text": [
      "[nltk_data] Downloading package stopwords to\n",
      "[nltk_data]     C:\\Users\\Nikit\\AppData\\Roaming\\nltk_data...\n",
      "[nltk_data]   Package stopwords is already up-to-date!\n",
      "[nltk_data] Downloading package punkt to\n",
      "[nltk_data]     C:\\Users\\Nikit\\AppData\\Roaming\\nltk_data...\n",
      "[nltk_data]   Package punkt is already up-to-date!\n"
     ]
    }
   ],
   "source": [
    "nltk.download(\"stopwords\")\n",
    "nltk.download(\"punkt\")\n",
    "stop_words = set(stopwords.words(\"russian\"))\n",
    "\n",
    "stemmer = SnowballStemmer(\"russian\")"
   ]
  },
  {
   "cell_type": "code",
   "execution_count": 61,
   "metadata": {},
   "outputs": [],
   "source": [
    "morph = pymorphy2.MorphAnalyzer()"
   ]
  },
  {
   "cell_type": "code",
   "execution_count": null,
   "metadata": {},
   "outputs": [],
   "source": [
    "def LEM(settlements, output_file):\n",
    "\n",
    "    # Фильтрация и нормализация слов\n",
    "    normalized_words = []\n",
    "    for settlement in settlements:\n",
    "        if settlement.lower() not in stop_words:\n",
    "            lemma = morph.parse(settlement)[0].normal_form\n",
    "            normalized_words.append(lemma)\n",
    "\n",
    "    # Подсчет частоты слова\n",
    "    settlement_freq = Counter(normalized_words)\n",
    "\n",
    "    # Запись в файл\n",
    "    with open(output_file, \"w\", encoding=\"utf-8\") as f:\n",
    "        for settlement, frequency in settlement_freq.most_common():\n",
    "            f.write(f\"{settlement}, {frequency}\\n\")\n",
    "\n",
    "LEM(settlements, \"outputLem.txt\")"
   ]
  },
  {
   "cell_type": "code",
   "execution_count": null,
   "metadata": {},
   "outputs": [],
   "source": [
    "def STEM(settlements, output_file):\n",
    "\n",
    "    normalized_words = []\n",
    "    for settlement in settlements:\n",
    "        if settlement.lower() not in stop_words:\n",
    "            stemmed_word = stemmer.stem(settlement)\n",
    "            normalized_words.append(stemmed_word)\n",
    "\n",
    "    # Подсчет частоты\n",
    "    settlement_freq = Counter(normalized_words)\n",
    "\n",
    "    # Сохранение результатов в файл с сортировкой по частоте\n",
    "    with open(output_file, \"w\", encoding=\"utf-8\") as f:\n",
    "        for settlement, frequency in settlement_freq.most_common():\n",
    "            f.write(f\"{settlement}, {frequency}\\n\")\n",
    "\n",
    "# Пример использования\n",
    "STEM(settlements, \"outputStem.txt\")"
   ]
  },
  {
   "cell_type": "markdown",
   "metadata": {},
   "source": [
    "ВЫВОД\n",
    "Изначальная гипотеза подтвердилась, разницы частот в результатах обнаружено не было."
   ]
  }
 ],
 "metadata": {
  "kernelspec": {
   "display_name": "Python 3",
   "language": "python",
   "name": "python3"
  },
  "language_info": {
   "codemirror_mode": {
    "name": "ipython",
    "version": 3
   },
   "file_extension": ".py",
   "mimetype": "text/x-python",
   "name": "python",
   "nbconvert_exporter": "python",
   "pygments_lexer": "ipython3",
   "version": "3.10.5"
  }
 },
 "nbformat": 4,
 "nbformat_minor": 2
}
